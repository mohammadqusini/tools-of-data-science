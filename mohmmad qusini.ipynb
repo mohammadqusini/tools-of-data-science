{
  "metadata": {
    "kernelspec": {
      "name": "python",
      "display_name": "Python (Pyodide)",
      "language": "python"
    },
    "language_info": {
      "codemirror_mode": {
        "name": "python",
        "version": 3
      },
      "file_extension": ".py",
      "mimetype": "text/x-python",
      "name": "python",
      "nbconvert_exporter": "python",
      "pygments_lexer": "ipython3",
      "version": "3.8"
    }
  },
  "nbformat_minor": 4,
  "nbformat": 4,
  "cells": [
    {
      "cell_type": "markdown",
      "source": "# mohmmad qusini",
      "metadata": {}
    },
    {
      "cell_type": "markdown",
      "source": "## Introduction\nWelcome to this notebook! In this notebook, we will explore various aspects of data science, including languages, libraries, and tools. Let's dive in!\n\n",
      "metadata": {}
    },
    {
      "cell_type": "markdown",
      "source": "## Data Science Languages\n- Python\n- R\n- SQL\n- Julia\n- Scala\n",
      "metadata": {}
    },
    {
      "cell_type": "markdown",
      "source": "## Data Science Libraries\n- NumPy\n- Pandas\n- Matplotlib\n- SciPy\n- Scikit-learn\n- TensorFlow\n- PyTorch\n",
      "metadata": {}
    },
    {
      "cell_type": "markdown",
      "source": "## Data Science Tools\n Tool         | Purpose                \n--------------|------------------------\n Jupyter      | Interactive computing  \n GitHub        | Version control       \n Docker       | Containerization      \n Tableau      | Data visualization    \n Apache Spark | Big data processing    ",
      "metadata": {}
    },
    {
      "cell_type": "markdown",
      "source": "## Arithmetic Expression Examples\nIn this section, we will look at examples of basic arithmetic expressions",
      "metadata": {}
    },
    {
      "cell_type": "code",
      "source": "a = 5\nb = 3\nmulti= a * b\nadd = a + b\n\nmulti, add",
      "metadata": {
        "trusted": true
      },
      "outputs": [
        {
          "execution_count": 10,
          "output_type": "execute_result",
          "data": {
            "text/plain": "(15, 8)"
          },
          "metadata": {}
        }
      ],
      "execution_count": 10
    },
    {
      "cell_type": "code",
      "source": "def minutes_to_hours(min):\n    return min / 60\n\nmin = 120\nhours = minutes_to_hours(min)\nhours",
      "metadata": {
        "trusted": true
      },
      "outputs": [
        {
          "execution_count": 12,
          "output_type": "execute_result",
          "data": {
            "text/plain": "2.0"
          },
          "metadata": {}
        }
      ],
      "execution_count": 12
    },
    {
      "cell_type": "markdown",
      "source": "## Objectives\n- Understand and use basic arithmetic operations.\n- Explore data science languages and libraries.\n- Learn about essential data science tools.\n- Implement simple code examples to perform conversions and calculations",
      "metadata": {}
    },
    {
      "cell_type": "markdown",
      "source": "## Author\nThis notebook was created by [mohmmad qusini].\n",
      "metadata": {}
    },
    {
      "cell_type": "code",
      "source": "",
      "metadata": {
        "trusted": true
      },
      "outputs": [],
      "execution_count": null
    }
  ]
}